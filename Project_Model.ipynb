{
  "nbformat": 4,
  "nbformat_minor": 0,
  "metadata": {
    "colab": {
      "provenance": []
    },
    "kernelspec": {
      "name": "python3",
      "display_name": "Python 3"
    },
    "language_info": {
      "name": "python"
    }
  },
  "cells": [
    {
      "cell_type": "code",
      "execution_count": null,
      "metadata": {
        "colab": {
          "base_uri": "https://localhost:8080/"
        },
        "id": "BuxcO4Bw8a-D",
        "outputId": "5551d243-451f-443c-ed5b-59f427290f23"
      },
      "outputs": [
        {
          "output_type": "stream",
          "name": "stdout",
          "text": [
            "Mounted at /content/drive\n"
          ]
        }
      ],
      "source": [
        "# Cell 1: Mount Google Drive\n",
        "from google.colab import drive\n",
        "drive.mount('/content/drive')"
      ]
    },
    {
      "cell_type": "code",
      "source": [
        "# Cell 2: Imports\n",
        "import os\n",
        "import tensorflow as tf\n",
        "from tensorflow.keras.preprocessing.image import ImageDataGenerator\n",
        "from tensorflow.keras import layers, models\n",
        "from tensorflow.keras.callbacks import LearningRateScheduler\n",
        "from sklearn.metrics import f1_score\n",
        "import matplotlib.pyplot as plt\n",
        "import numpy as np\n",
        "from keras.applications import VGG16\n",
        "from keras.models import Model\n",
        "from keras.layers import GlobalAveragePooling2D, Dense\n",
        "import pandas as pd\n",
        "from sklearn.model_selection import train_test_split\n"
      ],
      "metadata": {
        "id": "v5qzEzre8dLB"
      },
      "execution_count": null,
      "outputs": []
    },
    {
      "cell_type": "code",
      "source": [
        "# Uncomment the next line to train on CPU\n",
        "os.environ[\"CUDA_VISIBLE_DEVICES\"] = \"-1\"\n"
      ],
      "metadata": {
        "id": "zAn4ps0SDwUL"
      },
      "execution_count": null,
      "outputs": []
    },
    {
      "cell_type": "code",
      "source": [
        "# Cell 3: Define Constants\n",
        "image_height = 2479\n",
        "image_width = 3542\n",
        "batch_size = 4\n",
        "num_classes = 423\n"
      ],
      "metadata": {
        "id": "7xTubSKp8ksH"
      },
      "execution_count": null,
      "outputs": []
    },
    {
      "cell_type": "code",
      "source": [
        "# Cell 4: Load VGG16 Base Model\n",
        "base_model = VGG16(weights='imagenet', include_top=False, input_shape=(image_height, image_width, 3))\n",
        "\n",
        "# Freeze the layers of the pre-trained model\n",
        "for layer in base_model.layers[:-10]:\n",
        "    layer.trainable = False\n"
      ],
      "metadata": {
        "id": "rgw93yt_8shN",
        "colab": {
          "base_uri": "https://localhost:8080/"
        },
        "outputId": "2698e339-0315-4283-aae2-c4d6ae005e4b"
      },
      "execution_count": null,
      "outputs": [
        {
          "output_type": "stream",
          "name": "stdout",
          "text": [
            "Downloading data from https://storage.googleapis.com/tensorflow/keras-applications/vgg16/vgg16_weights_tf_dim_ordering_tf_kernels_notop.h5\n",
            "58889256/58889256 [==============================] - 0s 0us/step\n"
          ]
        }
      ]
    },
    {
      "cell_type": "code",
      "source": [
        "# Cell 5: Define Functions for File Paths and Data Splitting\n",
        "def get_file_paths(directory):\n",
        "    return [os.path.join(directory, file) for file in os.listdir(directory)]\n",
        "\n",
        "# Get file paths for each set\n",
        "train_files = get_file_paths('/content/drive/MyDrive/Dataset/Train')\n",
        "val_files = get_file_paths('/content/drive/MyDrive/Dataset/Validate')\n",
        "test_files = get_file_paths('/content/drive/MyDrive/Dataset/Test')\n",
        "\n",
        "# Create DataFrames and Split Data\n",
        "train_df = pd.DataFrame({'file_path': train_files, 'label': ['train'] * len(train_files)})\n",
        "val_df = pd.DataFrame({'file_path': val_files, 'label': ['validate'] * len(val_files)})\n",
        "test_df = pd.DataFrame({'file_path': test_files, 'label': ['test'] * len(test_files)})\n",
        "df = pd.concat([train_df, val_df, test_df], ignore_index=True)\n",
        "\n",
        "train_data, val_data = train_test_split(df, test_size=0.2, stratify=df['label'], random_state=42)\n",
        "val_data, test_data = train_test_split(val_data, test_size=0.5, stratify=val_data['label'], random_state=42)\n"
      ],
      "metadata": {
        "id": "Usqpl7D38tIP"
      },
      "execution_count": null,
      "outputs": []
    },
    {
      "cell_type": "code",
      "source": [
        "# Cell 6: Define ImageDataGenerators\n",
        "train_datagen = ImageDataGenerator(rescale=1./255,\n",
        "                                   rotation_range=20,\n",
        "                                   width_shift_range=0.2,\n",
        "                                   height_shift_range=0.2,\n",
        "                                   shear_range=0.2,\n",
        "                                   zoom_range=0.2,\n",
        "                                   horizontal_flip=True,\n",
        "                                   fill_mode='nearest')\n",
        "\n",
        "val_datagen = ImageDataGenerator(rescale=1./255)\n",
        "test_datagen = ImageDataGenerator(rescale=1./255)\n"
      ],
      "metadata": {
        "id": "-1nuI13L8vQX"
      },
      "execution_count": null,
      "outputs": []
    },
    {
      "cell_type": "code",
      "source": [
        "train_generator = train_datagen.flow_from_dataframe(\n",
        "    train_data,\n",
        "    x_col='file_path',\n",
        "    y_col='label',\n",
        "    target_size=(256,256),\n",
        "    batch_size=batch_size,\n",
        "    class_mode='categorical',\n",
        "    shuffle=True,\n",
        "    seed=42\n",
        ")"
      ],
      "metadata": {
        "colab": {
          "base_uri": "https://localhost:8080/"
        },
        "id": "6cNeQ9tk9DYI",
        "outputId": "08d5792b-d809-43bb-8f8e-0bccb237589b"
      },
      "execution_count": null,
      "outputs": [
        {
          "output_type": "stream",
          "name": "stdout",
          "text": [
            "Found 423 validated image filenames belonging to 3 classes.\n"
          ]
        }
      ]
    },
    {
      "cell_type": "code",
      "source": [
        "val_generator = val_datagen.flow_from_dataframe(\n",
        "    val_data,\n",
        "    x_col='file_path',\n",
        "    y_col='label',\n",
        "    target_size=(256,256),\n",
        "    batch_size=batch_size,\n",
        "    class_mode='categorical',\n",
        "    shuffle=False,\n",
        "    seed=42\n",
        ")"
      ],
      "metadata": {
        "colab": {
          "base_uri": "https://localhost:8080/"
        },
        "id": "gxK6Dp819FL-",
        "outputId": "340ba874-0177-4a05-920a-e34122d95309"
      },
      "execution_count": null,
      "outputs": [
        {
          "output_type": "stream",
          "name": "stdout",
          "text": [
            "Found 53 validated image filenames belonging to 3 classes.\n"
          ]
        }
      ]
    },
    {
      "cell_type": "code",
      "source": [
        "test_generator = test_datagen.flow_from_dataframe(\n",
        "    test_data,\n",
        "    x_col='file_path',\n",
        "    y_col='label',\n",
        "    target_size=(256,256),\n",
        "    batch_size=batch_size,\n",
        "    class_mode='categorical',\n",
        "    shuffle=False,\n",
        "    seed=42\n",
        ")"
      ],
      "metadata": {
        "colab": {
          "base_uri": "https://localhost:8080/"
        },
        "id": "-GQKGcLS9JhI",
        "outputId": "93362595-bd19-4731-f92b-1ff2388de0fe"
      },
      "execution_count": null,
      "outputs": [
        {
          "output_type": "stream",
          "name": "stdout",
          "text": [
            "Found 53 validated image filenames belonging to 3 classes.\n"
          ]
        }
      ]
    },
    {
      "cell_type": "code",
      "source": [
        "# Cell 10: Build the Model\n",
        "x = base_model.output\n",
        "x = GlobalAveragePooling2D()(x)\n",
        "x = Dense(256, activation='relu')(x)\n",
        "predictions = Dense(num_classes, activation='softmax')(x)\n",
        "predictions = layers.Dense(3, activation='softmax')(x)\n",
        "\n",
        "# Create the final model\n",
        "model = Model(inputs=base_model.input, outputs=predictions)\n",
        "\n",
        "# Compile the model\n",
        "model.compile(optimizer='adam',\n",
        "              loss='categorical_crossentropy',\n",
        "              metrics=['accuracy',\n",
        "                       tf.keras.metrics.Precision(name='precision'),\n",
        "                       tf.keras.metrics.Recall(name='recall')])\n"
      ],
      "metadata": {
        "id": "L3cR8eqn9L1J"
      },
      "execution_count": null,
      "outputs": []
    },
    {
      "cell_type": "code",
      "source": [
        "# Cell 11: Define Learning Rate Schedule\n",
        "def lr_schedule(epoch):\n",
        "    lr = 0.001\n",
        "    if epoch > 20:\n",
        "        lr *= 0.5\n",
        "    elif epoch > 30:\n",
        "        lr *= 0.2\n",
        "    return lr\n"
      ],
      "metadata": {
        "id": "aw1IghFK9RXd"
      },
      "execution_count": null,
      "outputs": []
    },
    {
      "cell_type": "code",
      "source": [
        "# Cell 12: Create Callback for F1 Score\n",
        "class F1ScoreCallback(tf.keras.callbacks.Callback):\n",
        "    def on_epoch_end(self, epoch, logs=None):\n",
        "        # Get predictions on validation data\n",
        "        val_predictions = self.model.predict(val_generator)\n",
        "\n",
        "        # Concatenate predictions and true labels over all batches\n",
        "        val_true_labels = []\n",
        "        val_pred_labels = []\n",
        "\n",
        "        for i in range(len(val_generator)):\n",
        "            batch_data, batch_labels = val_generator[i]\n",
        "            val_true_labels.extend(np.argmax(batch_labels, axis=1))\n",
        "            val_pred_labels.extend(np.argmax(val_predictions[i], axis=0))\n",
        "\n",
        "        # Convert to numpy arrays\n",
        "        val_true_labels = np.array(val_true_labels)\n",
        "        val_pred_labels = np.array(val_pred_labels)\n",
        "\n",
        "        # Calculate F1 score\n",
        "        f1 = f1_score(val_true_labels, val_pred_labels, average='weighted')\n",
        "\n",
        "        print(f'F1 Score: {f1:.4f}')\n"
      ],
      "metadata": {
        "id": "G_OWRDcG9Taq"
      },
      "execution_count": null,
      "outputs": []
    },
    {
      "cell_type": "code",
      "source": [
        "# Cell 13: Train the Model\n",
        "lr_scheduler = LearningRateScheduler(lr_schedule)\n",
        "f1_score_callback = F1ScoreCallback()\n",
        "\n",
        "# Train the model\n",
        "history = model.fit(train_generator,\n",
        "                    epochs=10,\n",
        "                    validation_data=val_generator,\n",
        "                    callbacks=[lr_scheduler])"
      ],
      "metadata": {
        "colab": {
          "base_uri": "https://localhost:8080/"
        },
        "id": "2yZAv65azhJw",
        "outputId": "cf1af3d6-fb84-48cc-edbd-eab610bcebee"
      },
      "execution_count": null,
      "outputs": [
        {
          "output_type": "stream",
          "name": "stdout",
          "text": [
            "Epoch 1/10\n",
            "106/106 [==============================] - 761s 7s/step - loss: 25.1295 - accuracy: 0.6785 - precision: 0.6788 - recall: 0.6596 - val_loss: 0.8741 - val_accuracy: 0.6981 - val_precision: 0.6981 - val_recall: 0.6981 - lr: 0.0010\n",
            "Epoch 2/10\n",
            "106/106 [==============================] - 810s 8s/step - loss: 0.9728 - accuracy: 0.7021 - precision: 0.6961 - recall: 0.6714 - val_loss: 0.8327 - val_accuracy: 0.6981 - val_precision: 0.6981 - val_recall: 0.6981 - lr: 0.0010\n",
            "Epoch 3/10\n",
            "106/106 [==============================] - 803s 8s/step - loss: 0.9615 - accuracy: 0.6879 - precision: 0.6940 - recall: 0.6809 - val_loss: 0.8217 - val_accuracy: 0.6981 - val_precision: 0.6981 - val_recall: 0.6981 - lr: 0.0010\n",
            "Epoch 4/10\n",
            "106/106 [==============================] - 753s 7s/step - loss: 0.8367 - accuracy: 0.6998 - precision: 0.7032 - recall: 0.6832 - val_loss: 0.8316 - val_accuracy: 0.6981 - val_precision: 0.6981 - val_recall: 0.6981 - lr: 0.0010\n",
            "Epoch 5/10\n",
            "106/106 [==============================] - 787s 7s/step - loss: 0.8355 - accuracy: 0.6950 - precision: 0.7034 - recall: 0.6785 - val_loss: 0.8377 - val_accuracy: 0.6981 - val_precision: 0.6981 - val_recall: 0.6981 - lr: 0.0010\n",
            "Epoch 6/10\n",
            "106/106 [==============================] - 796s 8s/step - loss: 0.8460 - accuracy: 0.6903 - precision: 0.6921 - recall: 0.6856 - val_loss: 0.8336 - val_accuracy: 0.6981 - val_precision: 0.6981 - val_recall: 0.6981 - lr: 0.0010\n",
            "Epoch 7/10\n",
            "106/106 [==============================] - 799s 8s/step - loss: 0.8241 - accuracy: 0.6998 - precision: 0.6998 - recall: 0.6998 - val_loss: 0.8246 - val_accuracy: 0.6981 - val_precision: 0.6981 - val_recall: 0.6981 - lr: 0.0010\n",
            "Epoch 8/10\n",
            "106/106 [==============================] - 748s 7s/step - loss: 0.8337 - accuracy: 0.6998 - precision: 0.6998 - recall: 0.6998 - val_loss: 0.8277 - val_accuracy: 0.6981 - val_precision: 0.6981 - val_recall: 0.6981 - lr: 0.0010\n",
            "Epoch 9/10\n",
            "106/106 [==============================] - 778s 7s/step - loss: 0.8254 - accuracy: 0.6998 - precision: 0.6998 - recall: 0.6998 - val_loss: 0.8226 - val_accuracy: 0.6981 - val_precision: 0.6981 - val_recall: 0.6981 - lr: 0.0010\n",
            "Epoch 10/10\n",
            "106/106 [==============================] - 779s 7s/step - loss: 0.8224 - accuracy: 0.6998 - precision: 0.6998 - recall: 0.6998 - val_loss: 0.8261 - val_accuracy: 0.6981 - val_precision: 0.6981 - val_recall: 0.6981 - lr: 0.0010\n"
          ]
        }
      ]
    },
    {
      "cell_type": "code",
      "source": [
        "plt.figure(figsize=(12, 4))\n",
        "\n",
        "plt.subplot(1, 2, 1)\n",
        "plt.plot(history.history['accuracy'], label='Training Accuracy')\n",
        "plt.plot(history.history['val_accuracy'], label='Validation Accuracy')\n",
        "plt.title('Training and Validation Accuracy')\n",
        "plt.xlabel('Epoch')\n",
        "plt.ylabel('Accuracy')\n",
        "plt.legend()\n",
        "\n",
        "# Plot training and validation loss\n",
        "plt.subplot(1, 2, 2)\n",
        "plt.plot(history.history['loss'], label='Training Loss')\n",
        "plt.plot(history.history['val_loss'], label='Validation Loss')\n",
        "plt.title('Training and Validation Loss')\n",
        "plt.xlabel('Epoch')\n",
        "plt.ylabel('Loss')\n",
        "plt.legend()\n",
        "\n",
        "plt.tight_layout()\n",
        "plt.show()"
      ],
      "metadata": {
        "colab": {
          "base_uri": "https://localhost:8080/",
          "height": 407
        },
        "id": "EQHugxlwbh_3",
        "outputId": "6bdf85cc-44fb-4dde-bbcc-12bffa0b2b68"
      },
      "execution_count": null,
      "outputs": [
        {
          "output_type": "display_data",
          "data": {
            "text/plain": [
              "<Figure size 1200x400 with 2 Axes>"
            ],
            "image/png": "[encoded data removed]"
          },
          "metadata": {}
        }
      ]
    },
    {
      "cell_type": "code",
      "source": [
        "# Cell 13: Evaluate the model on the test set\n",
        "test_results = model.evaluate(test_generator)\n",
        "test_loss = test_results[0]\n",
        "test_accuracy = test_results[1]\n",
        "print(f'Test Loss: {test_loss:.4f}')\n",
        "print(f'Test Accuracy: {test_accuracy:.4f}')\n"
      ],
      "metadata": {
        "colab": {
          "base_uri": "https://localhost:8080/"
        },
        "id": "OO44UXDMbybs",
        "outputId": "cd11f478-977c-44cf-f7b2-773463d9aaea"
      },
      "execution_count": null,
      "outputs": [
        {
          "output_type": "stream",
          "name": "stdout",
          "text": [
            "14/14 [==============================] - 46s 3s/step - loss: 0.8262 - accuracy: 0.6981 - precision: 0.6981 - recall: 0.6981\n",
            "Test Loss: 0.8262\n",
            "Test Accuracy: 0.6981\n"
          ]
        }
      ]
    },
    {
      "cell_type": "code",
      "source": [
        "model.summary()"
      ],
      "metadata": {
        "colab": {
          "base_uri": "https://localhost:8080/"
        },
        "id": "7uN6qbYc-8MT",
        "outputId": "b78da8ef-4020-43cc-f054-f6f47f44c53a"
      },
      "execution_count": null,
      "outputs": [
        {
          "output_type": "stream",
          "name": "stdout",
          "text": [
            "Model: \"model\"\n",
            "_________________________________________________________________\n",
            " Layer (type)                Output Shape              Param #   \n",
            "=================================================================\n",
            " input_1 (InputLayer)        [(None, 2479, 3542, 3)]   0         \n",
            "                                                                 \n",
            " block1_conv1 (Conv2D)       (None, 2479, 3542, 64)    1792      \n",
            "                                                                 \n",
            " block1_conv2 (Conv2D)       (None, 2479, 3542, 64)    36928     \n",
            "                                                                 \n",
            " block1_pool (MaxPooling2D)  (None, 1239, 1771, 64)    0         \n",
            "                                                                 \n",
            " block2_conv1 (Conv2D)       (None, 1239, 1771, 128)   73856     \n",
            "                                                                 \n",
            " block2_conv2 (Conv2D)       (None, 1239, 1771, 128)   147584    \n",
            "                                                                 \n",
            " block2_pool (MaxPooling2D)  (None, 619, 885, 128)     0         \n",
            "                                                                 \n",
            " block3_conv1 (Conv2D)       (None, 619, 885, 256)     295168    \n",
            "                                                                 \n",
            " block3_conv2 (Conv2D)       (None, 619, 885, 256)     590080    \n",
            "                                                                 \n",
            " block3_conv3 (Conv2D)       (None, 619, 885, 256)     590080    \n",
            "                                                                 \n",
            " block3_pool (MaxPooling2D)  (None, 309, 442, 256)     0         \n",
            "                                                                 \n",
            " block4_conv1 (Conv2D)       (None, 309, 442, 512)     1180160   \n",
            "                                                                 \n",
            " block4_conv2 (Conv2D)       (None, 309, 442, 512)     2359808   \n",
            "                                                                 \n",
            " block4_conv3 (Conv2D)       (None, 309, 442, 512)     2359808   \n",
            "                                                                 \n",
            " block4_pool (MaxPooling2D)  (None, 154, 221, 512)     0         \n",
            "                                                                 \n",
            " block5_conv1 (Conv2D)       (None, 154, 221, 512)     2359808   \n",
            "                                                                 \n",
            " block5_conv2 (Conv2D)       (None, 154, 221, 512)     2359808   \n",
            "                                                                 \n",
            " block5_conv3 (Conv2D)       (None, 154, 221, 512)     2359808   \n",
            "                                                                 \n",
            " block5_pool (MaxPooling2D)  (None, 77, 110, 512)      0         \n",
            "                                                                 \n",
            " global_average_pooling2d (  (None, 512)               0         \n",
            " GlobalAveragePooling2D)                                         \n",
            "                                                                 \n",
            " dense (Dense)               (None, 256)               131328    \n",
            "                                                                 \n",
            " dense_2 (Dense)             (None, 3)                 771       \n",
            "                                                                 \n",
            "=================================================================\n",
            "Total params: 14846787 (56.64 MB)\n",
            "Trainable params: 13701379 (52.27 MB)\n",
            "Non-trainable params: 1145408 (4.37 MB)\n",
            "_________________________________________________________________\n"
          ]
        }
      ]
    },
    {
      "cell_type": "code",
      "source": [],
      "metadata": {
        "id": "Qyxvj2b3UG7X"
      },
      "execution_count": null,
      "outputs": []
    }
  ]
}